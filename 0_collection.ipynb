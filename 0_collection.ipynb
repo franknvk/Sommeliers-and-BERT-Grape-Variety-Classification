{
 "cells": [
  {
   "cell_type": "code",
   "execution_count": 2,
   "id": "83638af0-3d40-4180-8177-ec051420b787",
   "metadata": {},
   "outputs": [],
   "source": [
    "import pandas as pd\n",
    "import numpy as np\n",
    "import scrapewinemag"
   ]
  },
  {
   "cell_type": "markdown",
   "id": "ead5951a-af03-46ee-87a8-681520e04aec",
   "metadata": {},
   "source": [
    "## Data Collection\n",
    "\n",
    "Using Zackthoutt's WineEnthusiast Web Scraper, collected all wine reviews for the year 2022 on Janurary 4, 2023. This is done by the 'scrapewinemag' import and calling the Scraper class. I specifed the year and the total range of review pages (1,3047). \n",
    "\n",
    "Completed the scrape over 7 iterations due errors caused by missing entries on the website. These were saved in seperate JSON files and concatenated to create the raw dataframe used for modeling and analysis. A total of 23531 reviews for the 2022."
   ]
  },
  {
   "cell_type": "code",
   "execution_count": 3,
   "id": "4b3159ad-48e4-456a-82b2-fd79b6009739",
   "metadata": {},
   "outputs": [
    {
     "data": {
      "text/plain": [
       "<scrapewinemag.Scraper at 0x7f8bf795cb50>"
      ]
     },
     "execution_count": 3,
     "metadata": {},
     "output_type": "execute_result"
    }
   ],
   "source": [
    "scrapewinemag.Scraper((1,3451),year=2022)"
   ]
  },
  {
   "cell_type": "code",
   "execution_count": 59,
   "id": "d3a0775c-dd18-4925-9d1a-a0ae3ea6e272",
   "metadata": {},
   "outputs": [],
   "source": [
    "#read in seven JSON files created from the scrape\n",
    "data1 = pd.read_json('data/1_winemag.json', dtype={'points': np.int32,'price': np.float32,}) \n",
    "data2 = pd.read_json('data/2_winemag.json', dtype={'points': np.int32,'price': np.float32,})\n",
    "data3 = pd.read_json('data/3_winemag.json', dtype={'points': np.int32,'price': np.float32,})\n",
    "data4 = pd.read_json('data/4_winemag.json', dtype={'points': np.int32,'price': np.float32,})\n",
    "data5 = pd.read_json('data/5_winemag.json', dtype={'points': np.int32,'price': np.float32,})\n",
    "data6 = pd.read_json('data/6_winemag.json', dtype={'points': np.int32,'price': np.float32,})\n",
    "data7 = pd.read_json('data/7_winemag.json', dtype={'points': np.int32,'price': np.float32,})\n",
    "\n",
    "#compile all dataframes into one\n",
    "frames = [data1, data2, data3, data4, data5, data6, data7]\n",
    "results = pd.concat(frames).reset_index(drop=True)\n",
    "\n",
    "#save raw wine dataframe\n",
    "results.to_csv('data/2022_winemag_reviews')"
   ]
  }
 ],
 "metadata": {
  "kernelspec": {
   "display_name": "Python 3 (ipykernel)",
   "language": "python",
   "name": "python3"
  },
  "language_info": {
   "codemirror_mode": {
    "name": "ipython",
    "version": 3
   },
   "file_extension": ".py",
   "mimetype": "text/x-python",
   "name": "python",
   "nbconvert_exporter": "python",
   "pygments_lexer": "ipython3",
   "version": "3.9.13"
  }
 },
 "nbformat": 4,
 "nbformat_minor": 5
}
