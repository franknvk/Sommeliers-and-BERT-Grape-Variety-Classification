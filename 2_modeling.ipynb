{
 "cells": [
  {
   "cell_type": "code",
   "execution_count": null,
   "id": "Qh4gaVUsBrBo",
   "metadata": {
    "colab": {
     "base_uri": "https://localhost:8080/"
    },
    "id": "Qh4gaVUsBrBo",
    "outputId": "6a633b9a-7b84-4306-cf82-1b78dc6c2b36"
   },
   "outputs": [],
   "source": [
    "!pip install tensorflow_text\n",
    "!pip install contractions"
   ]
  },
  {
   "cell_type": "code",
   "execution_count": 1,
   "id": "pE7jnLVDCO8b",
   "metadata": {
    "colab": {
     "base_uri": "https://localhost:8080/"
    },
    "id": "pE7jnLVDCO8b",
    "outputId": "fdff91a1-531c-48ca-a490-0459b0803949"
   },
   "outputs": [
    {
     "name": "stdout",
     "output_type": "stream",
     "text": [
      "Mon Jan  9 18:31:06 2023       \n",
      "+-----------------------------------------------------------------------------+\n",
      "| NVIDIA-SMI 460.32.03    Driver Version: 460.32.03    CUDA Version: 11.2     |\n",
      "|-------------------------------+----------------------+----------------------+\n",
      "| GPU  Name        Persistence-M| Bus-Id        Disp.A | Volatile Uncorr. ECC |\n",
      "| Fan  Temp  Perf  Pwr:Usage/Cap|         Memory-Usage | GPU-Util  Compute M. |\n",
      "|                               |                      |               MIG M. |\n",
      "|===============================+======================+======================|\n",
      "|   0  Tesla T4            Off  | 00000000:00:04.0 Off |                    0 |\n",
      "| N/A   54C    P0    25W /  70W |      0MiB / 15109MiB |      0%      Default |\n",
      "|                               |                      |                  N/A |\n",
      "+-------------------------------+----------------------+----------------------+\n",
      "                                                                               \n",
      "+-----------------------------------------------------------------------------+\n",
      "| Processes:                                                                  |\n",
      "|  GPU   GI   CI        PID   Type   Process name                  GPU Memory |\n",
      "|        ID   ID                                                   Usage      |\n",
      "|=============================================================================|\n",
      "|  No running processes found                                                 |\n",
      "+-----------------------------------------------------------------------------+\n"
     ]
    }
   ],
   "source": [
    "gpu_info = !nvidia-smi\n",
    "gpu_info = '\\n'.join(gpu_info)\n",
    "if gpu_info.find('failed') >= 0:\n",
    "  print('Not connected to a GPU')\n",
    "else:\n",
    "  print(gpu_info)"
   ]
  },
  {
   "cell_type": "code",
   "execution_count": 229,
   "id": "ade38acb-1365-4367-ae88-da1511dfe59d",
   "metadata": {
    "id": "ade38acb-1365-4367-ae88-da1511dfe59d"
   },
   "outputs": [],
   "source": [
    "import pandas as pd\n",
    "import numpy as np\n",
    "import matplotlib.pyplot as plt\n",
    "import re\n",
    "import contractions\n",
    "import pickle\n",
    "\n",
    "from imblearn.under_sampling import RandomUnderSampler\n",
    "from sklearn.preprocessing import LabelEncoder\n",
    "from sklearn.model_selection import train_test_split, GridSearchCV\n",
    "from sklearn.naive_bayes import MultinomialNB\n",
    "from sklearn.pipeline import Pipeline\n",
    "from sklearn.metrics import confusion_matrix, ConfusionMatrixDisplay\n",
    "\n",
    "from nltk.tokenize import RegexpTokenizer\n",
    "\n",
    "from keras.layers import Input,Dropout,Dense, LSTM, TextVectorization, Embedding\n",
    "from keras import Model, Sequential\n",
    "from  keras.models import load_model\n",
    "import tensorflow as tf\n",
    "import tensorflow_hub as hub\n",
    "import tensorflow_text as text\n",
    "from tensorflow.keras.optimizers.schedules import PolynomialDecay\n",
    "from tensorflow.keras.optimizers import Adam"
   ]
  },
  {
   "cell_type": "markdown",
   "id": "ec3232e4-b606-49c7-ab00-cbe5ffcd0fa1",
   "metadata": {},
   "source": [
    "# Modeling and Predictions"
   ]
  },
  {
   "cell_type": "code",
   "execution_count": 23,
   "id": "f9ca477f-88b1-4a56-a9a8-0460451f54b6",
   "metadata": {
    "id": "f9ca477f-88b1-4a56-a9a8-0460451f54b6"
   },
   "outputs": [],
   "source": [
    "#read in file\n",
    "wine = pd.read_csv('data/2022_winemag_reviews.csv')"
   ]
  },
  {
   "cell_type": "markdown",
   "id": "a0709ddc-0222-40d0-965c-a4052b7bd1ff",
   "metadata": {
    "id": "a0709ddc-0222-40d0-965c-a4052b7bd1ff"
   },
   "source": [
    "### Model features and targets preperation\n",
    "- For modeling, I will only be using the sommelier's reviews to predict wine variety. Seen in the wine description EDA, TDIF vocabularies and Word2Vec word similarities show significant information and are capable of being a predictive feature for modeling variety. Because of the large range of varieties, I will simplify the target variables based on specific grape varieties, excluding blends, and only chosing varieties that have atleast 700 samples."
   ]
  },
  {
   "cell_type": "code",
   "execution_count": 24,
   "id": "36ade7f6-46cf-4c8b-b3a1-2b5fe7be57d1",
   "metadata": {
    "id": "36ade7f6-46cf-4c8b-b3a1-2b5fe7be57d1"
   },
   "outputs": [
    {
     "name": "stdout",
     "output_type": "stream",
     "text": [
      "Pinot Noir            2458\n",
      "Chardonnay            1912\n",
      "Cabernet Sauvignon    1832\n",
      "Gamay                  907\n",
      "Sangiovese             887\n",
      "Sauvignon Blanc        882\n",
      "Portuguese Red         861\n",
      "Rosé                   825\n",
      "Syrah                  700\n",
      "Name: variety, dtype: int64\n"
     ]
    }
   ],
   "source": [
    "#feature and labels from the dataset\n",
    "model_df = wine[['description','variety']]\n",
    "\n",
    "#Drop any varieties that contains a blend, better for classifying specific grapesa\n",
    "model_df = model_df[~model_df['variety'].str.contains(\"Blend\")]\n",
    "\n",
    "#creating a list of the varieties with sufficient data \n",
    "variety_700 = model_df['variety'].value_counts()[model_df['variety'].value_counts() >= 700].keys()\n",
    "\n",
    "#condensing data to only contain those varieties \n",
    "condensed_model_df = model_df[model_df['variety'].isin(variety_700)]\n",
    "print(condensed_model_df.variety.value_counts())\n",
    "\n",
    "#creating a class output variable for modeling later on\n",
    "class_outputs = len(condensed_model_df['variety'].unique())"
   ]
  },
  {
   "cell_type": "markdown",
   "id": "6e9556a5-bac0-4160-b1bc-73922bb73cf7",
   "metadata": {
    "id": "6e9556a5-bac0-4160-b1bc-73922bb73cf7"
   },
   "source": [
    "- The most popular wine varieties have far more wine reviews than the others. To help with the classification modeling, the target labels will undersampled to match the minority group total. This equalization will remove any skew the modelings that may occur in favor of the majority class. Imblearn library makes this easy with the RandomUnderSampler object. After undersampling, the target labels will be encoded in preperation for modeling with Sklearn's Label Encoder Object. The encoded varieties will be saved to a dictionary for decoding after modeling."
   ]
  },
  {
   "cell_type": "code",
   "execution_count": 25,
   "id": "775734a1-a425-407b-9b48-27d972281390",
   "metadata": {
    "id": "775734a1-a425-407b-9b48-27d972281390"
   },
   "outputs": [
    {
     "data": {
      "text/plain": [
       "encoded_variety  variety           \n",
       "0                Cabernet Sauvignon    700\n",
       "1                Chardonnay            700\n",
       "2                Gamay                 700\n",
       "3                Pinot Noir            700\n",
       "4                Portuguese Red        700\n",
       "5                Rosé                  700\n",
       "6                Sangiovese            700\n",
       "7                Sauvignon Blanc       700\n",
       "8                Syrah                 700\n",
       "Name: variety, dtype: int64"
      ]
     },
     "execution_count": 25,
     "metadata": {},
     "output_type": "execute_result"
    }
   ],
   "source": [
    "#undersample based on the minority group ('Syrah')\n",
    "undersample = RandomUnderSampler(sampling_strategy='not minority')\n",
    "\n",
    "#fit to the data\n",
    "under_sampled = undersample.fit_resample(condensed_model_df[['description']],condensed_model_df[['variety']])\n",
    "\n",
    "#merge the undersampled data into one \n",
    "under_sampled_df = pd.merge(left = under_sampled[0],right = under_sampled[1],right_index=True,left_index=True)\n",
    "\n",
    "#instantiates label encoder \n",
    "le = LabelEncoder()\n",
    "\n",
    "#create new target column for encoded variable\n",
    "under_sampled_df['encoded_variety'] = le.fit_transform(under_sampled_df['variety'])\n",
    "\n",
    "#decoding dictionary for predictions\n",
    "mapping = dict(zip(range(len(le.classes_)),le.classes_))\n",
    "\n",
    "#show new value counts for each target variable\n",
    "under_sampled_df.groupby('encoded_variety')['variety'].value_counts()"
   ]
  },
  {
   "cell_type": "markdown",
   "id": "3228f898-4f11-4419-bee2-2c617b22a017",
   "metadata": {
    "id": "3228f898-4f11-4419-bee2-2c617b22a017"
   },
   "source": [
    "### Standardize Text\n",
    "- The description for each wine will need to be standardized again for baseline modeling with Naive Bayes. The text will be striped of any punctuation, numbers, lowered in case, and tonkenized. Then the text will be put through TFID vectorizor before the naive bayes model. "
   ]
  },
  {
   "cell_type": "code",
   "execution_count": 157,
   "id": "4ed0f5eb-a540-4ae5-814f-3ea524535d35",
   "metadata": {
    "id": "4ed0f5eb-a540-4ae5-814f-3ea524535d35"
   },
   "outputs": [
    {
     "name": "stdout",
     "output_type": "stream",
     "text": [
      "Unique words: 9499\n",
      "Max Length: 671\n"
     ]
    }
   ],
   "source": [
    "#standardization function\n",
    "def standardization(input_data):\n",
    "    regex = RegexpTokenizer(r'[\\w\\'\\']+')\n",
    "\n",
    "    conctract = contractions.fix(input_data)\n",
    "    no_num = re.sub(r'\\d+', '', conctract)\n",
    "    tokens = regex.tokenize(no_num.lower())\n",
    "    \n",
    "    return \" \".join(tokens)\n",
    "\n",
    "#save formated text to new column \n",
    "under_sampled_df['text'] = under_sampled_df['description'].apply(standardization)\n",
    "\n",
    "#Total amount of unique()\n",
    "raw_text = ''\n",
    "for text in under_sampled_df['text']:\n",
    "    raw_text += text\n",
    "word_count = len(set(raw_text.split()))\n",
    "print('Unique words:',word_count)\n",
    "print('Max Length:',max(under_sampled_df['text'].apply(len)))"
   ]
  },
  {
   "cell_type": "markdown",
   "id": "0ee45394-595f-4af3-b4af-7d6ffc31b3c3",
   "metadata": {
    "id": "0ee45394-595f-4af3-b4af-7d6ffc31b3c3"
   },
   "source": [
    "### Train/Test\n",
    "- Split the data 75/25 and stratify target variables so that there is equal distribution. "
   ]
  },
  {
   "cell_type": "code",
   "execution_count": 304,
   "id": "fc2097ce-0fc9-413a-b063-7bbb10f80efa",
   "metadata": {
    "id": "fc2097ce-0fc9-413a-b063-7bbb10f80efa"
   },
   "outputs": [],
   "source": [
    "#Split variables to x and y\n",
    "X = under_sampled_df[['text']]\n",
    "y = under_sampled_df['encoded_variety']\n",
    "\n",
    "X_train,X_test,y_train,y_test = train_test_split(X,y,stratify=y)"
   ]
  },
  {
   "cell_type": "markdown",
   "id": "ef1a51df-277a-4741-8369-e91e3de718f5",
   "metadata": {
    "id": "ef1a51df-277a-4741-8369-e91e3de718f5"
   },
   "source": [
    "### Multinomial Naive Bayes\n",
    " - The basic model will be Multinomial Naive Bayes. This model uses Bayes Theorm of Probability which calculates the probability of an event occurring based on the prior knowledge of conditions. This modeling type is typically used for NLP classification due for simple, fast, and efficient computing power. This will be compared to Neural Nets to show if a larger pre-trained model will improve classification accuracy.\n",
    " - The Term Frequency Inverse Document Frequency (TFID) vectorizer to transform text into a vector that can actually be interpretted by the model. The text is counted, indexed, and based on the frequency and inverse document frequency of the word over the entire range of documents, is converted to a vector. All stop words are removed since these tend to not relate to the important context of each document. "
   ]
  },
  {
   "cell_type": "code",
   "execution_count": 243,
   "id": "0dace49e-accc-498b-8825-e35283e65745",
   "metadata": {},
   "outputs": [
    {
     "name": "stdout",
     "output_type": "stream",
     "text": [
      "0.9075132275132275\n",
      "0.819047619047619\n"
     ]
    }
   ],
   "source": [
    "#vectorizer and model used in the grid search\n",
    "tfid = TfidfVectorizer(stop_words='english',max_features=5000,ngram_range=(1, 3),max_df=.6)\n",
    "mn = MultinomialNB()\n",
    "\n",
    "\n",
    "#params for gridsearch\n",
    "params = {\n",
    "          'mn__alpha':[.3,.9,1]\n",
    "         }\n",
    "         \n",
    "#put put everthing together in a pipeline\n",
    "pipe_nb = Pipeline([\n",
    "    ('tfid',tfid),\n",
    "    ('mn',mn)])\n",
    "\n",
    "#run gridsearch with pipe and param grid\n",
    "grid_nb = GridSearchCV(\n",
    "    estimator=pipe_nb, \n",
    "    param_grid=params,\n",
    "    scoring='accuracy',\n",
    "    cv = 5,\n",
    "    n_jobs=-1)\n",
    "\n",
    "#fit the model to the text only data because of the MultinomialNB can't have negative numbers\n",
    "grid_nb.fit(X_train,y_train)\n",
    "\n",
    "#print best params,accuracy scores,and confusion matrix\n",
    "print(grid_nb.score(X_train,y_train))\n",
    "print(grid_nb.score(X_test,y_test))"
   ]
  },
  {
   "cell_type": "markdown",
   "id": "a46d1677-bc03-4fe8-9c76-353824966e42",
   "metadata": {
    "id": "lTLZAWF8lpl4",
    "tags": []
   },
   "source": [
    "### Sequential Model with Embedding\n",
    "- In this model, text will again be vectorized but instead with Keras.text and a sequential recurrent neural net model. Each description is standardized (lowercased and punctuation removed), split,  recombined as ngrams, indexed, and vectorized. This model is strictly bound by the words within the data corpus. This is limited in the scope and contextual relation. \n",
    "- Once vectorized, the embedding layer takes the integer-encoded vocabulary and looks up the embedding vector for each word-index. These vectors are learned as the model trains. Then the vectors are fed through an LSTM layer, Dense, and Dropout layers. This model under performs to the Naive Bayes due to the limited context of the vocabulary and vector relations. Using the BERT model is intended to help by adding a larger and more complex vocabulary in terms of vocabulary depth, word relationships, and the resulting vectors. "
   ]
  },
  {
   "cell_type": "code",
   "execution_count": 305,
   "id": "3df66884-0d97-47ee-8008-a83caa8c2e74",
   "metadata": {
    "id": "3df66884-0d97-47ee-8008-a83caa8c2e74"
   },
   "outputs": [],
   "source": [
    "vectorize_layer = TextVectorization(max_tokens=6000,output_sequence_length=500)\n",
    "vectorize_layer.adapt(X_train)"
   ]
  },
  {
   "cell_type": "code",
   "execution_count": 306,
   "id": "4d68fafb-e6c2-41c5-99ee-5a09189507ac",
   "metadata": {
    "id": "4d68fafb-e6c2-41c5-99ee-5a09189507ac"
   },
   "outputs": [
    {
     "name": "stdout",
     "output_type": "stream",
     "text": [
      "Model: \"sequential_23\"\n",
      "_________________________________________________________________\n",
      " Layer (type)                Output Shape              Param #   \n",
      "=================================================================\n",
      " text_vectorization_12 (Text  (None, 500)              0         \n",
      " Vectorization)                                                  \n",
      "                                                                 \n",
      " embedding_21 (Embedding)    (None, 500, 64)           383104    \n",
      "                                                                 \n",
      " lstm_12 (LSTM)              (None, 64)                33024     \n",
      "                                                                 \n",
      " dropout_16 (Dropout)        (None, 64)                0         \n",
      "                                                                 \n",
      " dense_21 (Dense)            (None, 64)                4160      \n",
      "                                                                 \n",
      " dropout_17 (Dropout)        (None, 64)                0         \n",
      "                                                                 \n",
      " dense_22 (Dense)            (None, 16)                1040      \n",
      "                                                                 \n",
      " output (Dense)              (None, 9)                 153       \n",
      "                                                                 \n",
      "=================================================================\n",
      "Total params: 421,481\n",
      "Trainable params: 421,481\n",
      "Non-trainable params: 0\n",
      "_________________________________________________________________\n"
     ]
    }
   ],
   "source": [
    "model = Sequential()\n",
    "model.add(Input(shape=(1,), dtype=tf.string))\n",
    "model.add(vectorize_layer)\n",
    "model.add(Embedding(input_dim = len(vectorize_layer.get_vocabulary()),\n",
    "                    output_dim = 64,\n",
    "                    mask_zero = True))\n",
    "model.add(LSTM(64))\n",
    "model.add(Dropout(.4))\n",
    "model.add(Dense(64, activation = 'relu'))\n",
    "model.add(Dropout(.4))\n",
    "model.add(Dense(16, activation = 'relu'))\n",
    "model.add(Dense(class_outputs, activation='softmax',name='output'))\n",
    "\n",
    "#model summary\n",
    "model.summary() "
   ]
  },
  {
   "cell_type": "code",
   "execution_count": 309,
   "id": "AAbznADwobqB",
   "metadata": {
    "id": "AAbznADwobqB"
   },
   "outputs": [],
   "source": [
    "model.compile(optimizer='adam',\n",
    "             loss='sparse_categorical_crossentropy',\n",
    "             metrics = 'accuracy')"
   ]
  },
  {
   "cell_type": "code",
   "execution_count": 310,
   "id": "2H8KH_FtskZn",
   "metadata": {
    "colab": {
     "base_uri": "https://localhost:8080/"
    },
    "id": "2H8KH_FtskZn",
    "outputId": "e4350b62-e6ef-48c2-a1b7-1bb5c94045e3"
   },
   "outputs": [
    {
     "name": "stdout",
     "output_type": "stream",
     "text": [
      "Epoch 1/10\n",
      "30/30 [==============================] - 21s 537ms/step - loss: 2.1865 - accuracy: 0.1566 - val_loss: 2.1509 - val_accuracy: 0.2138\n",
      "Epoch 2/10\n",
      "30/30 [==============================] - 15s 487ms/step - loss: 1.9757 - accuracy: 0.2246 - val_loss: 1.7741 - val_accuracy: 0.2762\n",
      "Epoch 3/10\n",
      "30/30 [==============================] - 15s 496ms/step - loss: 1.6325 - accuracy: 0.3622 - val_loss: 1.4734 - val_accuracy: 0.4180\n",
      "Epoch 4/10\n",
      "30/30 [==============================] - 14s 475ms/step - loss: 1.3065 - accuracy: 0.4479 - val_loss: 1.2430 - val_accuracy: 0.5376\n",
      "Epoch 5/10\n",
      "30/30 [==============================] - 15s 486ms/step - loss: 1.1087 - accuracy: 0.5288 - val_loss: 1.1607 - val_accuracy: 0.5418\n",
      "Epoch 6/10\n",
      "30/30 [==============================] - 15s 488ms/step - loss: 0.9236 - accuracy: 0.6233 - val_loss: 1.0640 - val_accuracy: 0.6042\n",
      "Epoch 7/10\n",
      "30/30 [==============================] - 14s 473ms/step - loss: 0.8057 - accuracy: 0.6767 - val_loss: 0.9870 - val_accuracy: 0.6825\n",
      "Epoch 8/10\n",
      "30/30 [==============================] - 14s 483ms/step - loss: 0.6532 - accuracy: 0.7487 - val_loss: 0.9792 - val_accuracy: 0.6889\n",
      "Epoch 9/10\n",
      "30/30 [==============================] - 14s 476ms/step - loss: 0.5414 - accuracy: 0.7997 - val_loss: 1.0704 - val_accuracy: 0.6825\n",
      "Epoch 10/10\n",
      "30/30 [==============================] - 15s 487ms/step - loss: 0.4888 - accuracy: 0.8241 - val_loss: 1.0423 - val_accuracy: 0.7026\n"
     ]
    }
   ],
   "source": [
    "history = model.fit(X_train,y_train,validation_split=.2,batch_size = 128, epochs=10)"
   ]
  },
  {
   "cell_type": "markdown",
   "id": "6f22aa70-5199-493a-8174-d11df68d6e99",
   "metadata": {
    "id": "6f22aa70-5199-493a-8174-d11df68d6e99"
   },
   "source": [
    "### Bert Pre-Trained Model\n",
    "- BERT, Bidirectional Encoder Representations from Transformers, is Google's pretrained transformer model that has a vareitiy of NLP applications. Trained on over 3,300 million words it is better equiped to understand contextial relationships during vectorization. Using raw text as input, BERT's transformer will pre-process and encode through its pre-trained library. This model has been nicely ported in Keras for use as fine-tuned model like classifying wine varieties. \n",
    "- To further increase the performance of the model, an optimizier scheduler was used to decay learning rate of the model over the training time. This is done using the PolynomialDecay and applying through the Adam optimizer. "
   ]
  },
  {
   "cell_type": "code",
   "execution_count": null,
   "id": "f4e0ab9d-5ace-417c-93f8-57789fd8b188",
   "metadata": {
    "colab": {
     "base_uri": "https://localhost:8080/"
    },
    "id": "f4e0ab9d-5ace-417c-93f8-57789fd8b188",
    "outputId": "7eb95019-af1f-41e6-e267-3a937ec1d7ad"
   },
   "outputs": [],
   "source": [
    "#Keras hub URL that contain both the BERT preprocessing moduel and connected encoding model. \n",
    "preprocess_url = \"https://tfhub.dev/tensorflow/bert_en_uncased_preprocess/3\"\n",
    "encoder_url = \"https://tfhub.dev/tensorflow/bert_en_uncased_L-12_H-768_A-12/4\"\n",
    "\n",
    "#create the BERT layers\n",
    "bert_preprocess = hub.KerasLayer(preprocess_url, name = 'preprocessing')\n",
    "bert_encoder = hub.KerasLayer(encoder_url,trainable=True, name ='Bert_encoding')\n",
    "\n",
    "#test out encoding and preprocessing\n",
    "# def get_sentence_embeding(text):\n",
    "#     preprocess_test = bert_preprocess([text])\n",
    "#     return bert_encoder(preprocess_test)['pooled_output']\n",
    "\n",
    "# x = get_sentence_embeding(X_train.iloc[200]['description'])"
   ]
  },
  {
   "cell_type": "code",
   "execution_count": 108,
   "id": "dc63974d-39ce-4be8-9e2d-66e15a017af1",
   "metadata": {
    "colab": {
     "base_uri": "https://localhost:8080/"
    },
    "id": "dc63974d-39ce-4be8-9e2d-66e15a017af1",
    "outputId": "f201338d-39f2-4ea2-9913-c2204f3cbbcc"
   },
   "outputs": [
    {
     "name": "stdout",
     "output_type": "stream",
     "text": [
      "Model: \"model_2\"\n",
      "__________________________________________________________________________________________________\n",
      " Layer (type)                   Output Shape         Param #     Connected to                     \n",
      "==================================================================================================\n",
      " text (InputLayer)              [(None,)]            0           []                               \n",
      "                                                                                                  \n",
      " preprocessing (KerasLayer)     {'input_type_ids':   0           ['text[0][0]']                   \n",
      "                                (None, 128),                                                      \n",
      "                                 'input_word_ids':                                                \n",
      "                                (None, 128),                                                      \n",
      "                                 'input_mask': (Non                                               \n",
      "                                e, 128)}                                                          \n",
      "                                                                                                  \n",
      " Bert_encoding (KerasLayer)     {'pooled_output': (  109482241   ['preprocessing[2][0]',          \n",
      "                                None, 768),                       'preprocessing[2][1]',          \n",
      "                                 'encoder_outputs':               'preprocessing[2][2]']          \n",
      "                                 [(None, 128, 768),                                               \n",
      "                                 (None, 128, 768),                                                \n",
      "                                 (None, 128, 768),                                                \n",
      "                                 (None, 128, 768),                                                \n",
      "                                 (None, 128, 768),                                                \n",
      "                                 (None, 128, 768),                                                \n",
      "                                 (None, 128, 768),                                                \n",
      "                                 (None, 128, 768),                                                \n",
      "                                 (None, 128, 768),                                                \n",
      "                                 (None, 128, 768),                                                \n",
      "                                 (None, 128, 768),                                                \n",
      "                                 (None, 128, 768)],                                               \n",
      "                                 'sequence_output':                                               \n",
      "                                 (None, 128, 768),                                                \n",
      "                                 'default': (None,                                                \n",
      "                                768)}                                                             \n",
      "                                                                                                  \n",
      " dropout_2 (Dropout)            (None, 768)          0           ['Bert_encoding[2][13]']         \n",
      "                                                                                                  \n",
      " dense_2 (Dense)                (None, 16)           12304       ['dropout_2[0][0]']              \n",
      "                                                                                                  \n",
      " output (Dense)                 (None, 9)            153         ['dense_2[0][0]']                \n",
      "                                                                                                  \n",
      "==================================================================================================\n",
      "Total params: 109,494,698\n",
      "Trainable params: 109,494,697\n",
      "Non-trainable params: 1\n",
      "__________________________________________________________________________________________________\n"
     ]
    }
   ],
   "source": [
    "#bert layers\n",
    "text_input = Input(shape=(),dtype=tf.string, name='text')\n",
    "preprocessed_text = bert_preprocess(text_input)\n",
    "outputs = bert_encoder(preprocessed_text)\n",
    "\n",
    "#neural net layers\n",
    "dropout = Dropout(.4)(outputs['pooled_output'])\n",
    "dense = Dense(16,activation='relu')(dropout)\n",
    "dense = Dense(class_outputs, activation='softmax',name='output')(dense)\n",
    "\n",
    "#construct mode\n",
    "model = Model(inputs = [text_input], outputs=[dense])\n",
    "\n",
    "#model summary\n",
    "model.summary() "
   ]
  },
  {
   "cell_type": "code",
   "execution_count": null,
   "id": "aCq0kZ8CHnJm",
   "metadata": {
    "id": "aCq0kZ8CHnJm"
   },
   "outputs": [],
   "source": [
    "#create a polyninnomal decay(in this case linear decay) for learning rate over the entire training \n",
    "batch_size = 64\n",
    "num_epochs = 5\n",
    "num_train_steps = (len(y_train) * num_epochs)\n",
    "lr_scheduler = PolynomialDecay(initial_learning_rate=5e-5,\n",
    "                               end_learning_rate = 0.,\n",
    "                               decay_steps = num_train_steps)\n",
    "\n",
    "#apply the scheduler to the Adam Optimizier\n",
    "opt = Adam(learning_rate=lr_scheduler)\n",
    "\n",
    "#complie the model with the newly optimizer variable\n",
    "model.compile(optimizer=opt,\n",
    "             loss='sparse_categorical_crossentropy',\n",
    "             metrics = 'accuracy')"
   ]
  },
  {
   "cell_type": "code",
   "execution_count": 75,
   "id": "747dd70c-b7b2-4c0e-82ab-bb1bcc73cbd3",
   "metadata": {
    "colab": {
     "base_uri": "https://localhost:8080/"
    },
    "id": "747dd70c-b7b2-4c0e-82ab-bb1bcc73cbd3",
    "outputId": "32ec0431-7a97-4b42-9a9f-bf3cb1a6f9f7"
   },
   "outputs": [
    {
     "name": "stdout",
     "output_type": "stream",
     "text": [
      "Epoch 1/5\n",
      "119/119 [==============================] - 144s 913ms/step - loss: 0.9178 - accuracy: 0.7230 - val_loss: 0.4225 - val_accuracy: 0.8794\n",
      "Epoch 2/5\n",
      "119/119 [==============================] - 107s 903ms/step - loss: 0.3866 - accuracy: 0.8878 - val_loss: 0.3717 - val_accuracy: 0.8952\n",
      "Epoch 3/5\n",
      "119/119 [==============================] - 107s 902ms/step - loss: 0.2200 - accuracy: 0.9421 - val_loss: 0.4149 - val_accuracy: 0.8847\n",
      "Epoch 4/5\n",
      "119/119 [==============================] - 108s 905ms/step - loss: 0.1471 - accuracy: 0.9577 - val_loss: 0.4214 - val_accuracy: 0.8899\n",
      "Epoch 5/5\n",
      "119/119 [==============================] - 107s 901ms/step - loss: 0.1119 - accuracy: 0.9688 - val_loss: 0.4412 - val_accuracy: 0.8899\n"
     ]
    }
   ],
   "source": [
    "#fit the model \n",
    "history = model.fit(X_train,y_train,validation_split=.2, epochs=num_epochs)"
   ]
  },
  {
   "cell_type": "code",
   "execution_count": 184,
   "id": "5219d51e-e758-44ce-bebf-7a2094615007",
   "metadata": {},
   "outputs": [
    {
     "name": "stdout",
     "output_type": "stream",
     "text": [
      "50/50 [==============================] - 379s 8s/step - loss: 0.4409 - accuracy: 0.8775\n"
     ]
    },
    {
     "data": {
      "text/plain": [
       "[0.4408557415008545, 0.8774603009223938]"
      ]
     },
     "execution_count": 184,
     "metadata": {},
     "output_type": "execute_result"
    }
   ],
   "source": [
    "model.evaluate(X_test,y_test)"
   ]
  },
  {
   "cell_type": "code",
   "execution_count": null,
   "id": "c6b96d8e-d604-448c-981e-75f19c81354d",
   "metadata": {
    "tags": []
   },
   "outputs": [],
   "source": [
    "#y_pred = model.predict(X_test)\n",
    "y_pred = np.argmax(y_pred,axis=1)"
   ]
  },
  {
   "cell_type": "code",
   "execution_count": null,
   "id": "f52a10ae-aa5b-44a3-8518-229031c64d8f",
   "metadata": {
    "colab": {
     "base_uri": "https://localhost:8080/",
     "height": 313
    },
    "id": "xFkkFsP4VF-i",
    "outputId": "deed14d1-d047-4449-eb07-e38bfd0886dc"
   },
   "outputs": [
    {
     "data": {
      "text/plain": [
       "[]"
      ]
     },
     "execution_count": 76,
     "metadata": {},
     "output_type": "execute_result"
    },
    {
     "data": {
      "image/png": "[encoded data removed]",
      "text/plain": [
       "<Figure size 432x288 with 1 Axes>"
      ]
     },
     "metadata": {
      "needs_background": "light"
     },
     "output_type": "display_data"
    }
   ],
   "source": [
    "#show accuracy graphs from model\n",
    "acc = history.history['accuracy']\n",
    "val = history.history['val_accuracy']\n",
    "epochs = range(1, len(acc) + 1)\n",
    " \n",
    "plt.plot(epochs, acc, '-', label='Training accuracy')\n",
    "plt.plot(epochs, val, ':', label='Validation accuracy')\n",
    "plt.title('Training and Validation Accuracy')\n",
    "plt.xlabel('Epoch')\n",
    "plt.ylabel('Accuracy')\n",
    "plt.legend(loc='lower right')\n",
    "plt.plot()"
   ]
  },
  {
   "cell_type": "code",
   "execution_count": 119,
   "id": "HoeeZjFn-oSl",
   "metadata": {
    "colab": {
     "base_uri": "https://localhost:8080/"
    },
    "id": "HoeeZjFn-oSl",
    "outputId": "c2da680e-c9f6-4153-8a6e-ceea4dbc4dab"
   },
   "outputs": [
    {
     "name": "stdout",
     "output_type": "stream",
     "text": [
      "1/1 [==============================] - 2s 2s/step\n",
      "Cabernet Sauvignon\n"
     ]
    }
   ],
   "source": [
    "#testing out the prediction with tasting notes and decoding prediction with dictionary mapping\n",
    "ans = model.predict(['cherry and tobacco'])\n",
    "idx = np.argmax(ans)\n",
    "print(mapping[idx])"
   ]
  },
  {
   "cell_type": "code",
   "execution_count": null,
   "id": "8d7d3fdd-0f2f-4e8c-a2d3-00fcecb71e13",
   "metadata": {},
   "outputs": [],
   "source": [
    "#save model to reload in the streamlit app\n",
    "#model.save('/content/gdrive/MyDrive/GA - DSIR 1010/model')"
   ]
  },
  {
   "cell_type": "markdown",
   "id": "a267d45a-8da5-4f6d-9c29-dc9256f899fd",
   "metadata": {},
   "source": [
    "### Conclusions"
   ]
  },
  {
   "cell_type": "markdown",
   "id": "4ec8b8d8-234a-4091-9a42-a253c229de8b",
   "metadata": {},
   "source": [
    "Overall, the BERT model increased accuracy by almost 10% from the Naive Bayes at a trade off of increased computing power and total memory needed to store the model for deployment. This was a great exercise but would definitly improve with more data. Ideally, all 400+ types of grapes could be identified and classifiied based on reviwes but it is beyond the scope and time constraints of the project. \n",
    "\n",
    "Improved text preprocessing could also help in the classification. Some data leakage occured since names of the grapes were mentioned within the review. Being able to remove this and focus on specific defining characteristics would help improve performance. "
   ]
  }
 ],
 "metadata": {
  "accelerator": "GPU",
  "colab": {
   "provenance": []
  },
  "gpuClass": "premium",
  "kernelspec": {
   "display_name": "Python 3 (ipykernel)",
   "language": "python",
   "name": "python3"
  },
  "language_info": {
   "codemirror_mode": {
    "name": "ipython",
    "version": 3
   },
   "file_extension": ".py",
   "mimetype": "text/x-python",
   "name": "python",
   "nbconvert_exporter": "python",
   "pygments_lexer": "ipython3",
   "version": "3.9.13"
  }
 },
 "nbformat": 4,
 "nbformat_minor": 5
}
